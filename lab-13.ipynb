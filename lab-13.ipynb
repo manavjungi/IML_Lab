{
 "cells": [
  {
   "cell_type": "markdown",
   "id": "e5d7415d",
   "metadata": {
    "_cell_guid": "b1076dfc-b9ad-4769-8c92-a6c4dae69d19",
    "_uuid": "8f2839f25d086af736a60e9eeb907d3b93b6e0e5",
    "papermill": {
     "duration": 0.002222,
     "end_time": "2023-11-06T06:49:56.874044",
     "exception": false,
     "start_time": "2023-11-06T06:49:56.871822",
     "status": "completed"
    },
    "tags": []
   },
   "source": [
    "**13 a) Write a Python program to implement K-Nearest Neighbour supervised machine learning algorithm for given dataset.**"
   ]
  },
  {
   "cell_type": "code",
   "execution_count": 1,
   "id": "620a873e",
   "metadata": {
    "execution": {
     "iopub.execute_input": "2023-11-06T06:49:56.879473Z",
     "iopub.status.busy": "2023-11-06T06:49:56.879075Z",
     "iopub.status.idle": "2023-11-06T06:49:58.461343Z",
     "shell.execute_reply": "2023-11-06T06:49:58.460277Z"
    },
    "papermill": {
     "duration": 1.5894,
     "end_time": "2023-11-06T06:49:58.465352",
     "exception": false,
     "start_time": "2023-11-06T06:49:56.875952",
     "status": "completed"
    },
    "tags": []
   },
   "outputs": [
    {
     "name": "stdout",
     "output_type": "stream",
     "text": [
      "Confusion Matrix:\n",
      "[[15  0  0]\n",
      " [ 0 14  2]\n",
      " [ 0  2 12]]\n",
      "\n",
      "Classification Report:\n",
      "              precision    recall  f1-score   support\n",
      "\n",
      "           0       1.00      1.00      1.00        15\n",
      "           1       0.88      0.88      0.88        16\n",
      "           2       0.86      0.86      0.86        14\n",
      "\n",
      "    accuracy                           0.91        45\n",
      "   macro avg       0.91      0.91      0.91        45\n",
      "weighted avg       0.91      0.91      0.91        45\n",
      "\n"
     ]
    }
   ],
   "source": [
    "from sklearn import datasets\n",
    "from sklearn.model_selection import train_test_split\n",
    "from sklearn.preprocessing import StandardScaler\n",
    "from sklearn.neighbors import KNeighborsClassifier\n",
    "from sklearn.metrics import classification_report, confusion_matrix\n",
    "\n",
    "iris = datasets.load_iris()\n",
    "X = iris.data\n",
    "y = iris.target\n",
    "\n",
    "X_train, X_test, y_train, y_test = train_test_split(X, y, test_size=\n",
    "0.3) # 70% training and 30% testing\n",
    "\n",
    "scaler = StandardScaler()\n",
    "scaler.fit(X_train)\n",
    "X_train = scaler.transform(X_train)\n",
    "X_test = scaler.transform(X_test)\n",
    "\n",
    "k = 5\n",
    "knn = KNeighborsClassifier(n_neighbors=k)\n",
    "\n",
    "knn.fit(X_train,y_train)\n",
    "\n",
    "y_pred = knn.predict(X_test)\n",
    "\n",
    "print(\"Confusion Matrix:\")\n",
    "print(confusion_matrix(y_test,y_pred))\n",
    "print(\"\\nClassification Report:\")\n",
    "print(classification_report(y_test,y_pred))"
   ]
  }
 ],
 "metadata": {
  "kernelspec": {
   "display_name": "Python 3",
   "language": "python",
   "name": "python3"
  },
  "language_info": {
   "codemirror_mode": {
    "name": "ipython",
    "version": 3
   },
   "file_extension": ".py",
   "mimetype": "text/x-python",
   "name": "python",
   "nbconvert_exporter": "python",
   "pygments_lexer": "ipython3",
   "version": "3.10.12"
  },
  "papermill": {
   "default_parameters": {},
   "duration": 5.157941,
   "end_time": "2023-11-06T06:49:58.886438",
   "environment_variables": {},
   "exception": null,
   "input_path": "__notebook__.ipynb",
   "output_path": "__notebook__.ipynb",
   "parameters": {},
   "start_time": "2023-11-06T06:49:53.728497",
   "version": "2.4.0"
  }
 },
 "nbformat": 4,
 "nbformat_minor": 5
}
