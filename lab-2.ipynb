{
 "cells": [
  {
   "cell_type": "code",
   "execution_count": 1,
   "id": "4f7d0eb5",
   "metadata": {
    "_cell_guid": "b1076dfc-b9ad-4769-8c92-a6c4dae69d19",
    "_uuid": "8f2839f25d086af736a60e9eeb907d3b93b6e0e5",
    "execution": {
     "iopub.execute_input": "2023-09-01T11:32:18.023703Z",
     "iopub.status.busy": "2023-09-01T11:32:18.022829Z",
     "iopub.status.idle": "2023-09-01T11:32:18.493282Z",
     "shell.execute_reply": "2023-09-01T11:32:18.491639Z"
    },
    "papermill": {
     "duration": 0.481728,
     "end_time": "2023-09-01T11:32:18.496523",
     "exception": false,
     "start_time": "2023-09-01T11:32:18.014795",
     "status": "completed"
    },
    "tags": []
   },
   "outputs": [],
   "source": [
    "import numpy as np # linear algebra\n",
    "import pandas as pd # data processing"
   ]
  },
  {
   "cell_type": "markdown",
   "id": "9b63a835",
   "metadata": {
    "execution": {
     "iopub.execute_input": "2023-09-01T11:08:17.936793Z",
     "iopub.status.busy": "2023-09-01T11:08:17.936393Z",
     "iopub.status.idle": "2023-09-01T11:08:17.941581Z",
     "shell.execute_reply": "2023-09-01T11:08:17.940301Z",
     "shell.execute_reply.started": "2023-09-01T11:08:17.936763Z"
    },
    "papermill": {
     "duration": 0.006567,
     "end_time": "2023-09-01T11:32:18.510345",
     "exception": false,
     "start_time": "2023-09-01T11:32:18.503778",
     "status": "completed"
    },
    "tags": []
   },
   "source": [
    "**2 a) To convert a list of numeric values into a 1 dimensional NumPY array.**"
   ]
  },
  {
   "cell_type": "code",
   "execution_count": 2,
   "id": "b3aefdc5",
   "metadata": {
    "execution": {
     "iopub.execute_input": "2023-09-01T11:32:18.524624Z",
     "iopub.status.busy": "2023-09-01T11:32:18.524079Z",
     "iopub.status.idle": "2023-09-01T11:32:18.532069Z",
     "shell.execute_reply": "2023-09-01T11:32:18.530809Z"
    },
    "papermill": {
     "duration": 0.01887,
     "end_time": "2023-09-01T11:32:18.535535",
     "exception": false,
     "start_time": "2023-09-01T11:32:18.516665",
     "status": "completed"
    },
    "tags": []
   },
   "outputs": [
    {
     "name": "stdout",
     "output_type": "stream",
     "text": [
      "[87 45 74 98]\n"
     ]
    }
   ],
   "source": [
    "myList = [87,45,74,98]\n",
    "\n",
    "myArray = np.array(myList)\n",
    "\n",
    "print(myArray)"
   ]
  },
  {
   "cell_type": "markdown",
   "id": "08be9c06",
   "metadata": {
    "papermill": {
     "duration": 0.006407,
     "end_time": "2023-09-01T11:32:18.548162",
     "exception": false,
     "start_time": "2023-09-01T11:32:18.541755",
     "status": "completed"
    },
    "tags": []
   },
   "source": [
    "**2 b) To create a 3*3 matrix with values ranging from 2 to 10.**"
   ]
  },
  {
   "cell_type": "code",
   "execution_count": 3,
   "id": "a2ac2e7c",
   "metadata": {
    "execution": {
     "iopub.execute_input": "2023-09-01T11:32:18.562227Z",
     "iopub.status.busy": "2023-09-01T11:32:18.561383Z",
     "iopub.status.idle": "2023-09-01T11:32:18.568439Z",
     "shell.execute_reply": "2023-09-01T11:32:18.566925Z"
    },
    "papermill": {
     "duration": 0.017038,
     "end_time": "2023-09-01T11:32:18.570860",
     "exception": false,
     "start_time": "2023-09-01T11:32:18.553822",
     "status": "completed"
    },
    "tags": []
   },
   "outputs": [
    {
     "name": "stdout",
     "output_type": "stream",
     "text": [
      "[[ 2  3  4]\n",
      " [ 5  6  7]\n",
      " [ 8  9 10]]\n"
     ]
    }
   ],
   "source": [
    "matrix = np.arange(2, 11).reshape(3, 3)\n",
    "\n",
    "print(matrix)"
   ]
  },
  {
   "cell_type": "markdown",
   "id": "3a3c80f4",
   "metadata": {
    "papermill": {
     "duration": 0.005177,
     "end_time": "2023-09-01T11:32:18.581641",
     "exception": false,
     "start_time": "2023-09-01T11:32:18.576464",
     "status": "completed"
    },
    "tags": []
   },
   "source": [
    "**2 c) To append value at the end of array.**"
   ]
  },
  {
   "cell_type": "code",
   "execution_count": 4,
   "id": "d49530e9",
   "metadata": {
    "execution": {
     "iopub.execute_input": "2023-09-01T11:32:18.595353Z",
     "iopub.status.busy": "2023-09-01T11:32:18.594382Z",
     "iopub.status.idle": "2023-09-01T11:32:18.601907Z",
     "shell.execute_reply": "2023-09-01T11:32:18.600889Z"
    },
    "papermill": {
     "duration": 0.01711,
     "end_time": "2023-09-01T11:32:18.604315",
     "exception": false,
     "start_time": "2023-09-01T11:32:18.587205",
     "status": "completed"
    },
    "tags": []
   },
   "outputs": [
    {
     "name": "stdout",
     "output_type": "stream",
     "text": [
      "[10 20 30 40 50]\n"
     ]
    }
   ],
   "source": [
    "my_array = np.array([10,20,30,40])\n",
    "valueAppend = 50\n",
    "\n",
    "my_array = np.append(my_array, valueAppend)\n",
    "\n",
    "print(my_array)\n"
   ]
  },
  {
   "cell_type": "markdown",
   "id": "b3d3c236",
   "metadata": {
    "papermill": {
     "duration": 0.005791,
     "end_time": "2023-09-01T11:32:18.616224",
     "exception": false,
     "start_time": "2023-09-01T11:32:18.610433",
     "status": "completed"
    },
    "tags": []
   },
   "source": [
    "**2 d) To create another shape from an array without changing its data(3*2 to 2*3)**"
   ]
  },
  {
   "cell_type": "code",
   "execution_count": 5,
   "id": "321c7f95",
   "metadata": {
    "execution": {
     "iopub.execute_input": "2023-09-01T11:32:18.630808Z",
     "iopub.status.busy": "2023-09-01T11:32:18.629813Z",
     "iopub.status.idle": "2023-09-01T11:32:18.638080Z",
     "shell.execute_reply": "2023-09-01T11:32:18.636840Z"
    },
    "papermill": {
     "duration": 0.018524,
     "end_time": "2023-09-01T11:32:18.640533",
     "exception": false,
     "start_time": "2023-09-01T11:32:18.622009",
     "status": "completed"
    },
    "tags": []
   },
   "outputs": [
    {
     "name": "stdout",
     "output_type": "stream",
     "text": [
      "[[1 2 3]\n",
      " [4 5 6]]\n"
     ]
    }
   ],
   "source": [
    "original_array = np.array([[1, 2],\n",
    "                           [3, 4],\n",
    "                           [5, 6]])\n",
    "\n",
    "reshaped_array = original_array.reshape(2, 3)\n",
    "\n",
    "print(reshaped_array)"
   ]
  }
 ],
 "kernelspec": {
  "display_name": "Python 3",
  "language": "python",
  "name": "python3"
 },
 "language_info": {
  "codemirror_mode": {
   "name": "ipython",
   "version": 3
  },
  "file_extension": ".py",
  "mimetype": "text/x-python",
  "name": "python",
  "nbconvert_exporter": "python",
  "pygments_lexer": "ipython3",
  "version": "3.6.4"
 },
 "metadata": {
  "kernelspec": {
   "display_name": "Python 3",
   "language": "python",
   "name": "python3"
  },
  "language_info": {
   "codemirror_mode": {
    "name": "ipython",
    "version": 3
   },
   "file_extension": ".py",
   "mimetype": "text/x-python",
   "name": "python",
   "nbconvert_exporter": "python",
   "pygments_lexer": "ipython3",
   "version": "3.10.12"
  },
  "papermill": {
   "default_parameters": {},
   "duration": 4.965026,
   "end_time": "2023-09-01T11:32:19.167946",
   "environment_variables": {},
   "exception": null,
   "input_path": "__notebook__.ipynb",
   "output_path": "__notebook__.ipynb",
   "parameters": {},
   "start_time": "2023-09-01T11:32:14.202920",
   "version": "2.4.0"
  }
 },
 "nbformat": 4,
 "nbformat_minor": 5
}
