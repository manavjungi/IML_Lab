{
 "cells": [
  {
   "cell_type": "code",
   "execution_count": 1,
   "id": "2a7e7d42",
   "metadata": {
    "_cell_guid": "b1076dfc-b9ad-4769-8c92-a6c4dae69d19",
    "_uuid": "8f2839f25d086af736a60e9eeb907d3b93b6e0e5",
    "execution": {
     "iopub.execute_input": "2023-11-06T07:22:56.854406Z",
     "iopub.status.busy": "2023-11-06T07:22:56.853413Z",
     "iopub.status.idle": "2023-11-06T07:22:58.999462Z",
     "shell.execute_reply": "2023-11-06T07:22:58.997869Z"
    },
    "papermill": {
     "duration": 2.1585,
     "end_time": "2023-11-06T07:22:59.002519",
     "exception": false,
     "start_time": "2023-11-06T07:22:56.844019",
     "status": "completed"
    },
    "tags": []
   },
   "outputs": [],
   "source": [
    "import warnings\n",
    "warnings.filterwarnings('ignore')\n",
    "\n",
    "\n",
    "import numpy as np\n",
    "import pandas as pd\n",
    "\n",
    "\n",
    "import matplotlib.pyplot as plt \n",
    "import seaborn as sns"
   ]
  },
  {
   "cell_type": "code",
   "execution_count": 2,
   "id": "7f30bdce",
   "metadata": {
    "execution": {
     "iopub.execute_input": "2023-11-06T07:22:59.019913Z",
     "iopub.status.busy": "2023-11-06T07:22:59.019297Z",
     "iopub.status.idle": "2023-11-06T07:22:59.060185Z",
     "shell.execute_reply": "2023-11-06T07:22:59.059035Z"
    },
    "papermill": {
     "duration": 0.053129,
     "end_time": "2023-11-06T07:22:59.063190",
     "exception": false,
     "start_time": "2023-11-06T07:22:59.010061",
     "status": "completed"
    },
    "tags": []
   },
   "outputs": [
    {
     "data": {
      "text/html": [
       "<div>\n",
       "<style scoped>\n",
       "    .dataframe tbody tr th:only-of-type {\n",
       "        vertical-align: middle;\n",
       "    }\n",
       "\n",
       "    .dataframe tbody tr th {\n",
       "        vertical-align: top;\n",
       "    }\n",
       "\n",
       "    .dataframe thead th {\n",
       "        text-align: right;\n",
       "    }\n",
       "</style>\n",
       "<table border=\"1\" class=\"dataframe\">\n",
       "  <thead>\n",
       "    <tr style=\"text-align: right;\">\n",
       "      <th></th>\n",
       "      <th>CustomerID</th>\n",
       "      <th>Gender</th>\n",
       "      <th>Age</th>\n",
       "      <th>Annual Income (k$)</th>\n",
       "      <th>Spending Score (1-100)</th>\n",
       "    </tr>\n",
       "  </thead>\n",
       "  <tbody>\n",
       "    <tr>\n",
       "      <th>0</th>\n",
       "      <td>1</td>\n",
       "      <td>Male</td>\n",
       "      <td>19</td>\n",
       "      <td>15</td>\n",
       "      <td>39</td>\n",
       "    </tr>\n",
       "    <tr>\n",
       "      <th>1</th>\n",
       "      <td>2</td>\n",
       "      <td>Male</td>\n",
       "      <td>21</td>\n",
       "      <td>15</td>\n",
       "      <td>81</td>\n",
       "    </tr>\n",
       "    <tr>\n",
       "      <th>2</th>\n",
       "      <td>3</td>\n",
       "      <td>Female</td>\n",
       "      <td>20</td>\n",
       "      <td>16</td>\n",
       "      <td>6</td>\n",
       "    </tr>\n",
       "    <tr>\n",
       "      <th>3</th>\n",
       "      <td>4</td>\n",
       "      <td>Female</td>\n",
       "      <td>23</td>\n",
       "      <td>16</td>\n",
       "      <td>77</td>\n",
       "    </tr>\n",
       "    <tr>\n",
       "      <th>4</th>\n",
       "      <td>5</td>\n",
       "      <td>Female</td>\n",
       "      <td>31</td>\n",
       "      <td>17</td>\n",
       "      <td>40</td>\n",
       "    </tr>\n",
       "  </tbody>\n",
       "</table>\n",
       "</div>"
      ],
      "text/plain": [
       "   CustomerID  Gender  Age  Annual Income (k$)  Spending Score (1-100)\n",
       "0           1    Male   19                  15                      39\n",
       "1           2    Male   21                  15                      81\n",
       "2           3  Female   20                  16                       6\n",
       "3           4  Female   23                  16                      77\n",
       "4           5  Female   31                  17                      40"
      ]
     },
     "execution_count": 2,
     "metadata": {},
     "output_type": "execute_result"
    }
   ],
   "source": [
    "df = pd.DataFrame(pd.read_csv(\"/kaggle/input/mall-customer-segmentation/Mall_Customers.csv\"))\n",
    "df.head()"
   ]
  },
  {
   "cell_type": "code",
   "execution_count": 3,
   "id": "4baa035a",
   "metadata": {
    "execution": {
     "iopub.execute_input": "2023-11-06T07:22:59.080726Z",
     "iopub.status.busy": "2023-11-06T07:22:59.080034Z",
     "iopub.status.idle": "2023-11-06T07:22:59.088377Z",
     "shell.execute_reply": "2023-11-06T07:22:59.087055Z"
    },
    "papermill": {
     "duration": 0.020288,
     "end_time": "2023-11-06T07:22:59.091128",
     "exception": false,
     "start_time": "2023-11-06T07:22:59.070840",
     "status": "completed"
    },
    "tags": []
   },
   "outputs": [
    {
     "data": {
      "text/plain": [
       "(200, 5)"
      ]
     },
     "execution_count": 3,
     "metadata": {},
     "output_type": "execute_result"
    }
   ],
   "source": [
    "df.shape"
   ]
  },
  {
   "cell_type": "code",
   "execution_count": 4,
   "id": "d9c23444",
   "metadata": {
    "execution": {
     "iopub.execute_input": "2023-11-06T07:22:59.108268Z",
     "iopub.status.busy": "2023-11-06T07:22:59.107854Z",
     "iopub.status.idle": "2023-11-06T07:22:59.140566Z",
     "shell.execute_reply": "2023-11-06T07:22:59.139212Z"
    },
    "papermill": {
     "duration": 0.044487,
     "end_time": "2023-11-06T07:22:59.143285",
     "exception": false,
     "start_time": "2023-11-06T07:22:59.098798",
     "status": "completed"
    },
    "tags": []
   },
   "outputs": [
    {
     "name": "stdout",
     "output_type": "stream",
     "text": [
      "<class 'pandas.core.frame.DataFrame'>\n",
      "RangeIndex: 200 entries, 0 to 199\n",
      "Data columns (total 5 columns):\n",
      " #   Column                  Non-Null Count  Dtype \n",
      "---  ------                  --------------  ----- \n",
      " 0   CustomerID              200 non-null    int64 \n",
      " 1   Gender                  200 non-null    object\n",
      " 2   Age                     200 non-null    int64 \n",
      " 3   Annual Income (k$)      200 non-null    int64 \n",
      " 4   Spending Score (1-100)  200 non-null    int64 \n",
      "dtypes: int64(4), object(1)\n",
      "memory usage: 7.9+ KB\n"
     ]
    }
   ],
   "source": [
    "df.info()"
   ]
  },
  {
   "cell_type": "code",
   "execution_count": 5,
   "id": "f9c2902b",
   "metadata": {
    "execution": {
     "iopub.execute_input": "2023-11-06T07:22:59.160500Z",
     "iopub.status.busy": "2023-11-06T07:22:59.160118Z",
     "iopub.status.idle": "2023-11-06T07:22:59.186911Z",
     "shell.execute_reply": "2023-11-06T07:22:59.185849Z"
    },
    "papermill": {
     "duration": 0.038836,
     "end_time": "2023-11-06T07:22:59.189758",
     "exception": false,
     "start_time": "2023-11-06T07:22:59.150922",
     "status": "completed"
    },
    "tags": []
   },
   "outputs": [
    {
     "data": {
      "text/html": [
       "<div>\n",
       "<style scoped>\n",
       "    .dataframe tbody tr th:only-of-type {\n",
       "        vertical-align: middle;\n",
       "    }\n",
       "\n",
       "    .dataframe tbody tr th {\n",
       "        vertical-align: top;\n",
       "    }\n",
       "\n",
       "    .dataframe thead th {\n",
       "        text-align: right;\n",
       "    }\n",
       "</style>\n",
       "<table border=\"1\" class=\"dataframe\">\n",
       "  <thead>\n",
       "    <tr style=\"text-align: right;\">\n",
       "      <th></th>\n",
       "      <th>CustomerID</th>\n",
       "      <th>Age</th>\n",
       "      <th>Annual Income (k$)</th>\n",
       "      <th>Spending Score (1-100)</th>\n",
       "    </tr>\n",
       "  </thead>\n",
       "  <tbody>\n",
       "    <tr>\n",
       "      <th>count</th>\n",
       "      <td>200.000000</td>\n",
       "      <td>200.000000</td>\n",
       "      <td>200.000000</td>\n",
       "      <td>200.000000</td>\n",
       "    </tr>\n",
       "    <tr>\n",
       "      <th>mean</th>\n",
       "      <td>100.500000</td>\n",
       "      <td>38.850000</td>\n",
       "      <td>60.560000</td>\n",
       "      <td>50.200000</td>\n",
       "    </tr>\n",
       "    <tr>\n",
       "      <th>std</th>\n",
       "      <td>57.879185</td>\n",
       "      <td>13.969007</td>\n",
       "      <td>26.264721</td>\n",
       "      <td>25.823522</td>\n",
       "    </tr>\n",
       "    <tr>\n",
       "      <th>min</th>\n",
       "      <td>1.000000</td>\n",
       "      <td>18.000000</td>\n",
       "      <td>15.000000</td>\n",
       "      <td>1.000000</td>\n",
       "    </tr>\n",
       "    <tr>\n",
       "      <th>25%</th>\n",
       "      <td>50.750000</td>\n",
       "      <td>28.750000</td>\n",
       "      <td>41.500000</td>\n",
       "      <td>34.750000</td>\n",
       "    </tr>\n",
       "    <tr>\n",
       "      <th>50%</th>\n",
       "      <td>100.500000</td>\n",
       "      <td>36.000000</td>\n",
       "      <td>61.500000</td>\n",
       "      <td>50.000000</td>\n",
       "    </tr>\n",
       "    <tr>\n",
       "      <th>75%</th>\n",
       "      <td>150.250000</td>\n",
       "      <td>49.000000</td>\n",
       "      <td>78.000000</td>\n",
       "      <td>73.000000</td>\n",
       "    </tr>\n",
       "    <tr>\n",
       "      <th>max</th>\n",
       "      <td>200.000000</td>\n",
       "      <td>70.000000</td>\n",
       "      <td>137.000000</td>\n",
       "      <td>99.000000</td>\n",
       "    </tr>\n",
       "  </tbody>\n",
       "</table>\n",
       "</div>"
      ],
      "text/plain": [
       "       CustomerID         Age  Annual Income (k$)  Spending Score (1-100)\n",
       "count  200.000000  200.000000          200.000000              200.000000\n",
       "mean   100.500000   38.850000           60.560000               50.200000\n",
       "std     57.879185   13.969007           26.264721               25.823522\n",
       "min      1.000000   18.000000           15.000000                1.000000\n",
       "25%     50.750000   28.750000           41.500000               34.750000\n",
       "50%    100.500000   36.000000           61.500000               50.000000\n",
       "75%    150.250000   49.000000           78.000000               73.000000\n",
       "max    200.000000   70.000000          137.000000               99.000000"
      ]
     },
     "execution_count": 5,
     "metadata": {},
     "output_type": "execute_result"
    }
   ],
   "source": [
    "df.describe()"
   ]
  },
  {
   "cell_type": "code",
   "execution_count": 6,
   "id": "c3907329",
   "metadata": {
    "execution": {
     "iopub.execute_input": "2023-11-06T07:22:59.207825Z",
     "iopub.status.busy": "2023-11-06T07:22:59.207383Z",
     "iopub.status.idle": "2023-11-06T07:22:59.723176Z",
     "shell.execute_reply": "2023-11-06T07:22:59.721909Z"
    },
    "papermill": {
     "duration": 0.52804,
     "end_time": "2023-11-06T07:22:59.725916",
     "exception": false,
     "start_time": "2023-11-06T07:22:59.197876",
     "status": "completed"
    },
    "tags": []
   },
   "outputs": [
    {
     "data": {
      "image/png": "[encoded data removed]",
      "text/plain": [
       "<Figure size 500x500 with 3 Axes>"
      ]
     },
     "metadata": {},
     "output_type": "display_data"
    }
   ],
   "source": [
    "fig, axs = plt.subplots(3, figsize = (5,5))\n",
    "plt1 = sns.boxplot(df['Age'], ax = axs[0])\n",
    "plt2 = sns.boxplot(df['Annual Income (k$)'], ax = axs[1])\n",
    "plt3 = sns.boxplot(df['Spending Score (1-100)'], ax = axs[2])\n",
    "plt.tight_layout()"
   ]
  },
  {
   "cell_type": "code",
   "execution_count": 7,
   "id": "265edf7c",
   "metadata": {
    "execution": {
     "iopub.execute_input": "2023-11-06T07:22:59.745096Z",
     "iopub.status.busy": "2023-11-06T07:22:59.744331Z",
     "iopub.status.idle": "2023-11-06T07:22:59.954025Z",
     "shell.execute_reply": "2023-11-06T07:22:59.952735Z"
    },
    "papermill": {
     "duration": 0.222426,
     "end_time": "2023-11-06T07:22:59.956887",
     "exception": false,
     "start_time": "2023-11-06T07:22:59.734461",
     "status": "completed"
    },
    "tags": []
   },
   "outputs": [
    {
     "data": {
      "image/png": "[encoded data removed]",
      "text/plain": [
       "<Figure size 640x480 with 1 Axes>"
      ]
     },
     "metadata": {},
     "output_type": "display_data"
    }
   ],
   "source": [
    "sns.boxplot(df['Age'])\n",
    "plt.show()"
   ]
  },
  {
   "cell_type": "code",
   "execution_count": 8,
   "id": "baa6d4d5",
   "metadata": {
    "execution": {
     "iopub.execute_input": "2023-11-06T07:22:59.976513Z",
     "iopub.status.busy": "2023-11-06T07:22:59.976119Z",
     "iopub.status.idle": "2023-11-06T07:23:00.618972Z",
     "shell.execute_reply": "2023-11-06T07:23:00.617556Z"
    },
    "papermill": {
     "duration": 0.65597,
     "end_time": "2023-11-06T07:23:00.621926",
     "exception": false,
     "start_time": "2023-11-06T07:22:59.965956",
     "status": "completed"
    },
    "tags": []
   },
   "outputs": [
    {
     "data": {
      "image/png": "[encoded data removed]",
      "text/plain": [
       "<Figure size 800x400 with 2 Axes>"
      ]
     },
     "metadata": {},
     "output_type": "display_data"
    }
   ],
   "source": [
    "sns.pairplot(df, x_vars=['Annual Income (k$)', 'Spending Score (1-100)'], y_vars='Age', height=4, aspect=1, kind='scatter')\n",
    "plt.show()"
   ]
  },
  {
   "cell_type": "code",
   "execution_count": 9,
   "id": "7a336c6b",
   "metadata": {
    "execution": {
     "iopub.execute_input": "2023-11-06T07:23:00.643009Z",
     "iopub.status.busy": "2023-11-06T07:23:00.642598Z",
     "iopub.status.idle": "2023-11-06T07:23:01.043836Z",
     "shell.execute_reply": "2023-11-06T07:23:01.041811Z"
    },
    "papermill": {
     "duration": 0.415453,
     "end_time": "2023-11-06T07:23:01.047033",
     "exception": false,
     "start_time": "2023-11-06T07:23:00.631580",
     "status": "completed"
    },
    "tags": []
   },
   "outputs": [
    {
     "data": {
      "image/png": "[encoded data removed]",
      "text/plain": [
       "<Figure size 640x480 with 2 Axes>"
      ]
     },
     "metadata": {},
     "output_type": "display_data"
    }
   ],
   "source": [
    "df2 = df.select_dtypes(include=['number'])\n",
    "sns.heatmap(df2.corr(), cmap=\"YlGnBu\", annot = True)\n",
    "plt.show()"
   ]
  },
  {
   "cell_type": "code",
   "execution_count": 10,
   "id": "95830a03",
   "metadata": {
    "execution": {
     "iopub.execute_input": "2023-11-06T07:23:01.069579Z",
     "iopub.status.busy": "2023-11-06T07:23:01.068369Z",
     "iopub.status.idle": "2023-11-06T07:23:01.082663Z",
     "shell.execute_reply": "2023-11-06T07:23:01.080614Z"
    },
    "papermill": {
     "duration": 0.029201,
     "end_time": "2023-11-06T07:23:01.086313",
     "exception": false,
     "start_time": "2023-11-06T07:23:01.057112",
     "status": "completed"
    },
    "tags": []
   },
   "outputs": [
    {
     "name": "stdout",
     "output_type": "stream",
     "text": [
      "<class 'pandas.core.frame.DataFrame'>\n",
      "RangeIndex: 200 entries, 0 to 199\n",
      "Data columns (total 3 columns):\n",
      " #   Column                  Non-Null Count  Dtype\n",
      "---  ------                  --------------  -----\n",
      " 0   Age                     200 non-null    int64\n",
      " 1   Annual Income (k$)      200 non-null    int64\n",
      " 2   Spending Score (1-100)  200 non-null    int64\n",
      "dtypes: int64(3)\n",
      "memory usage: 4.8 KB\n"
     ]
    }
   ],
   "source": [
    "df = df.drop(columns=\"Gender\")\n",
    "df = df.drop(columns=\"CustomerID\")\n",
    "df.info()\n"
   ]
  },
  {
   "cell_type": "code",
   "execution_count": 11,
   "id": "2068c0db",
   "metadata": {
    "execution": {
     "iopub.execute_input": "2023-11-06T07:23:01.109903Z",
     "iopub.status.busy": "2023-11-06T07:23:01.109191Z",
     "iopub.status.idle": "2023-11-06T07:23:01.115370Z",
     "shell.execute_reply": "2023-11-06T07:23:01.114181Z"
    },
    "papermill": {
     "duration": 0.020443,
     "end_time": "2023-11-06T07:23:01.117965",
     "exception": false,
     "start_time": "2023-11-06T07:23:01.097522",
     "status": "completed"
    },
    "tags": []
   },
   "outputs": [],
   "source": [
    "X = df.drop(columns=\"Spending Score (1-100)\")\n",
    "y = df['Spending Score (1-100)']\n"
   ]
  },
  {
   "cell_type": "code",
   "execution_count": 12,
   "id": "d5708b7f",
   "metadata": {
    "execution": {
     "iopub.execute_input": "2023-11-06T07:23:01.140218Z",
     "iopub.status.busy": "2023-11-06T07:23:01.139823Z",
     "iopub.status.idle": "2023-11-06T07:23:01.489345Z",
     "shell.execute_reply": "2023-11-06T07:23:01.487851Z"
    },
    "papermill": {
     "duration": 0.364389,
     "end_time": "2023-11-06T07:23:01.492451",
     "exception": false,
     "start_time": "2023-11-06T07:23:01.128062",
     "status": "completed"
    },
    "tags": []
   },
   "outputs": [],
   "source": [
    "from sklearn.model_selection import train_test_split\n",
    "X_train, X_test, y_train, y_test = train_test_split(X, y, train_size = 0.5, test_size = 0.5, random_state = 100)"
   ]
  },
  {
   "cell_type": "code",
   "execution_count": 13,
   "id": "3c137a11",
   "metadata": {
    "execution": {
     "iopub.execute_input": "2023-11-06T07:23:01.515203Z",
     "iopub.status.busy": "2023-11-06T07:23:01.514776Z",
     "iopub.status.idle": "2023-11-06T07:23:01.655255Z",
     "shell.execute_reply": "2023-11-06T07:23:01.654077Z"
    },
    "papermill": {
     "duration": 0.155178,
     "end_time": "2023-11-06T07:23:01.658150",
     "exception": false,
     "start_time": "2023-11-06T07:23:01.502972",
     "status": "completed"
    },
    "tags": []
   },
   "outputs": [],
   "source": [
    "from sklearn.linear_model import LinearRegression\n",
    "from sklearn.metrics import mean_squared_error\n"
   ]
  },
  {
   "cell_type": "code",
   "execution_count": 14,
   "id": "02c7b84a",
   "metadata": {
    "execution": {
     "iopub.execute_input": "2023-11-06T07:23:01.680294Z",
     "iopub.status.busy": "2023-11-06T07:23:01.679814Z",
     "iopub.status.idle": "2023-11-06T07:23:01.692433Z",
     "shell.execute_reply": "2023-11-06T07:23:01.691062Z"
    },
    "papermill": {
     "duration": 0.026875,
     "end_time": "2023-11-06T07:23:01.695131",
     "exception": false,
     "start_time": "2023-11-06T07:23:01.668256",
     "status": "completed"
    },
    "tags": []
   },
   "outputs": [
    {
     "name": "stdout",
     "output_type": "stream",
     "text": [
      "<class 'pandas.core.frame.DataFrame'>\n",
      "RangeIndex: 200 entries, 0 to 199\n",
      "Data columns (total 3 columns):\n",
      " #   Column                  Non-Null Count  Dtype\n",
      "---  ------                  --------------  -----\n",
      " 0   Age                     200 non-null    int64\n",
      " 1   Annual Income (k$)      200 non-null    int64\n",
      " 2   Spending Score (1-100)  200 non-null    int64\n",
      "dtypes: int64(3)\n",
      "memory usage: 4.8 KB\n"
     ]
    }
   ],
   "source": [
    "df.info()"
   ]
  },
  {
   "cell_type": "code",
   "execution_count": 15,
   "id": "b01b42da",
   "metadata": {
    "execution": {
     "iopub.execute_input": "2023-11-06T07:23:01.718028Z",
     "iopub.status.busy": "2023-11-06T07:23:01.717601Z",
     "iopub.status.idle": "2023-11-06T07:23:01.765633Z",
     "shell.execute_reply": "2023-11-06T07:23:01.764495Z"
    },
    "papermill": {
     "duration": 0.062577,
     "end_time": "2023-11-06T07:23:01.768512",
     "exception": false,
     "start_time": "2023-11-06T07:23:01.705935",
     "status": "completed"
    },
    "tags": []
   },
   "outputs": [
    {
     "data": {
      "text/html": [
       "<style>#sk-container-id-1 {color: black;background-color: white;}#sk-container-id-1 pre{padding: 0;}#sk-container-id-1 div.sk-toggleable {background-color: white;}#sk-container-id-1 label.sk-toggleable__label {cursor: pointer;display: block;width: 100%;margin-bottom: 0;padding: 0.3em;box-sizing: border-box;text-align: center;}#sk-container-id-1 label.sk-toggleable__label-arrow:before {content: \"▸\";float: left;margin-right: 0.25em;color: #696969;}#sk-container-id-1 label.sk-toggleable__label-arrow:hover:before {color: black;}#sk-container-id-1 div.sk-estimator:hover label.sk-toggleable__label-arrow:before {color: black;}#sk-container-id-1 div.sk-toggleable__content {max-height: 0;max-width: 0;overflow: hidden;text-align: left;background-color: #f0f8ff;}#sk-container-id-1 div.sk-toggleable__content pre {margin: 0.2em;color: black;border-radius: 0.25em;background-color: #f0f8ff;}#sk-container-id-1 input.sk-toggleable__control:checked~div.sk-toggleable__content {max-height: 200px;max-width: 100%;overflow: auto;}#sk-container-id-1 input.sk-toggleable__control:checked~label.sk-toggleable__label-arrow:before {content: \"▾\";}#sk-container-id-1 div.sk-estimator input.sk-toggleable__control:checked~label.sk-toggleable__label {background-color: #d4ebff;}#sk-container-id-1 div.sk-label input.sk-toggleable__control:checked~label.sk-toggleable__label {background-color: #d4ebff;}#sk-container-id-1 input.sk-hidden--visually {border: 0;clip: rect(1px 1px 1px 1px);clip: rect(1px, 1px, 1px, 1px);height: 1px;margin: -1px;overflow: hidden;padding: 0;position: absolute;width: 1px;}#sk-container-id-1 div.sk-estimator {font-family: monospace;background-color: #f0f8ff;border: 1px dotted black;border-radius: 0.25em;box-sizing: border-box;margin-bottom: 0.5em;}#sk-container-id-1 div.sk-estimator:hover {background-color: #d4ebff;}#sk-container-id-1 div.sk-parallel-item::after {content: \"\";width: 100%;border-bottom: 1px solid gray;flex-grow: 1;}#sk-container-id-1 div.sk-label:hover label.sk-toggleable__label {background-color: #d4ebff;}#sk-container-id-1 div.sk-serial::before {content: \"\";position: absolute;border-left: 1px solid gray;box-sizing: border-box;top: 0;bottom: 0;left: 50%;z-index: 0;}#sk-container-id-1 div.sk-serial {display: flex;flex-direction: column;align-items: center;background-color: white;padding-right: 0.2em;padding-left: 0.2em;position: relative;}#sk-container-id-1 div.sk-item {position: relative;z-index: 1;}#sk-container-id-1 div.sk-parallel {display: flex;align-items: stretch;justify-content: center;background-color: white;position: relative;}#sk-container-id-1 div.sk-item::before, #sk-container-id-1 div.sk-parallel-item::before {content: \"\";position: absolute;border-left: 1px solid gray;box-sizing: border-box;top: 0;bottom: 0;left: 50%;z-index: -1;}#sk-container-id-1 div.sk-parallel-item {display: flex;flex-direction: column;z-index: 1;position: relative;background-color: white;}#sk-container-id-1 div.sk-parallel-item:first-child::after {align-self: flex-end;width: 50%;}#sk-container-id-1 div.sk-parallel-item:last-child::after {align-self: flex-start;width: 50%;}#sk-container-id-1 div.sk-parallel-item:only-child::after {width: 0;}#sk-container-id-1 div.sk-dashed-wrapped {border: 1px dashed gray;margin: 0 0.4em 0.5em 0.4em;box-sizing: border-box;padding-bottom: 0.4em;background-color: white;}#sk-container-id-1 div.sk-label label {font-family: monospace;font-weight: bold;display: inline-block;line-height: 1.2em;}#sk-container-id-1 div.sk-label-container {text-align: center;}#sk-container-id-1 div.sk-container {/* jupyter's `normalize.less` sets `[hidden] { display: none; }` but bootstrap.min.css set `[hidden] { display: none !important; }` so we also need the `!important` here to be able to override the default hidden behavior on the sphinx rendered scikit-learn.org. See: https://github.com/scikit-learn/scikit-learn/issues/21755 */display: inline-block !important;position: relative;}#sk-container-id-1 div.sk-text-repr-fallback {display: none;}</style><div id=\"sk-container-id-1\" class=\"sk-top-container\"><div class=\"sk-text-repr-fallback\"><pre>LinearRegression()</pre><b>In a Jupyter environment, please rerun this cell to show the HTML representation or trust the notebook. <br />On GitHub, the HTML representation is unable to render, please try loading this page with nbviewer.org.</b></div><div class=\"sk-container\" hidden><div class=\"sk-item\"><div class=\"sk-estimator sk-toggleable\"><input class=\"sk-toggleable__control sk-hidden--visually\" id=\"sk-estimator-id-1\" type=\"checkbox\" checked><label for=\"sk-estimator-id-1\" class=\"sk-toggleable__label sk-toggleable__label-arrow\">LinearRegression</label><div class=\"sk-toggleable__content\"><pre>LinearRegression()</pre></div></div></div></div></div>"
      ],
      "text/plain": [
       "LinearRegression()"
      ]
     },
     "execution_count": 15,
     "metadata": {},
     "output_type": "execute_result"
    }
   ],
   "source": [
    "model = LinearRegression()\n",
    "model.fit(X_train,y_train)"
   ]
  },
  {
   "cell_type": "code",
   "execution_count": 16,
   "id": "5879888f",
   "metadata": {
    "execution": {
     "iopub.execute_input": "2023-11-06T07:23:01.791465Z",
     "iopub.status.busy": "2023-11-06T07:23:01.791025Z",
     "iopub.status.idle": "2023-11-06T07:23:01.801891Z",
     "shell.execute_reply": "2023-11-06T07:23:01.800305Z"
    },
    "papermill": {
     "duration": 0.02495,
     "end_time": "2023-11-06T07:23:01.804127",
     "exception": false,
     "start_time": "2023-11-06T07:23:01.779177",
     "status": "completed"
    },
    "tags": []
   },
   "outputs": [
    {
     "name": "stdout",
     "output_type": "stream",
     "text": [
      "[46.53785013 43.54391914 55.60434378 43.85333806 56.13041365 51.52773511\n",
      " 37.85798586 44.27108245 50.03422619 49.88729549 44.3719177  54.83857524\n",
      " 46.74701086 45.24601172 51.4966201  48.6813119  47.52084669 54.14252694\n",
      " 52.09241021 53.50755453 47.06334293 38.29877797 52.54818277 52.68762325\n",
      " 52.6259703  39.85393985 51.60494558 35.59121818 50.04229348 48.10050222\n",
      " 44.36385042 55.73571698 48.58796686 57.10534292 48.6576871  46.87031677\n",
      " 40.30222219 50.32866467 43.69891713 43.52836163 50.32866467 48.24743293\n",
      " 53.67061981 52.54126962 52.0221129  41.93459453 52.71873827 45.51624834\n",
      " 52.61790301 52.5337794  35.56010316 49.00571125 56.23873912 36.93721932\n",
      " 41.00633777 52.69511347 52.99012902 46.22843121 46.4992449  52.81957352\n",
      " 38.93317332 51.91378743 53.48508387 43.37336364 35.44428747 47.79108331\n",
      " 47.70580556 49.59343408 43.39698843 36.9141716  34.21410202 42.29817618\n",
      " 50.67668882 41.54047493 42.9095238  44.77410459 55.54326789 33.69552237\n",
      " 47.33415661 50.2203392  37.50938464 47.1716684  43.54391914 53.00510946\n",
      " 52.74178599 53.0748297  43.70640735 48.88989556 54.42889813 53.84866553\n",
      " 49.14457467 54.30443809 42.97924404 49.96450595 47.00918019 42.09708274\n",
      " 50.05727392 51.51160054 50.70722677 49.15206489]\n"
     ]
    }
   ],
   "source": [
    "X_train.head()\n",
    "y_pred = model.predict(X_test)\n",
    "mse= mean_squared_error(y_test,y_pred)\n",
    "print(y_pred)"
   ]
  },
  {
   "cell_type": "code",
   "execution_count": 17,
   "id": "a295bb2b",
   "metadata": {
    "execution": {
     "iopub.execute_input": "2023-11-06T07:23:01.827472Z",
     "iopub.status.busy": "2023-11-06T07:23:01.827070Z",
     "iopub.status.idle": "2023-11-06T07:23:01.833730Z",
     "shell.execute_reply": "2023-11-06T07:23:01.832558Z"
    },
    "papermill": {
     "duration": 0.021571,
     "end_time": "2023-11-06T07:23:01.836335",
     "exception": false,
     "start_time": "2023-11-06T07:23:01.814764",
     "status": "completed"
    },
    "tags": []
   },
   "outputs": [
    {
     "name": "stdout",
     "output_type": "stream",
     "text": [
      "[46.53785013 43.54391914 55.60434378 43.85333806 56.13041365 51.52773511\n",
      " 37.85798586 44.27108245 50.03422619 49.88729549 44.3719177  54.83857524\n",
      " 46.74701086 45.24601172 51.4966201  48.6813119  47.52084669 54.14252694\n",
      " 52.09241021 53.50755453 47.06334293 38.29877797 52.54818277 52.68762325\n",
      " 52.6259703  39.85393985 51.60494558 35.59121818 50.04229348 48.10050222\n",
      " 44.36385042 55.73571698 48.58796686 57.10534292 48.6576871  46.87031677\n",
      " 40.30222219 50.32866467 43.69891713 43.52836163 50.32866467 48.24743293\n",
      " 53.67061981 52.54126962 52.0221129  41.93459453 52.71873827 45.51624834\n",
      " 52.61790301 52.5337794  35.56010316 49.00571125 56.23873912 36.93721932\n",
      " 41.00633777 52.69511347 52.99012902 46.22843121 46.4992449  52.81957352\n",
      " 38.93317332 51.91378743 53.48508387 43.37336364 35.44428747 47.79108331\n",
      " 47.70580556 49.59343408 43.39698843 36.9141716  34.21410202 42.29817618\n",
      " 50.67668882 41.54047493 42.9095238  44.77410459 55.54326789 33.69552237\n",
      " 47.33415661 50.2203392  37.50938464 47.1716684  43.54391914 53.00510946\n",
      " 52.74178599 53.0748297  43.70640735 48.88989556 54.42889813 53.84866553\n",
      " 49.14457467 54.30443809 42.97924404 49.96450595 47.00918019 42.09708274\n",
      " 50.05727392 51.51160054 50.70722677 49.15206489]\n"
     ]
    }
   ],
   "source": [
    "print(y_pred)\n"
   ]
  },
  {
   "cell_type": "code",
   "execution_count": 18,
   "id": "094cd7cc",
   "metadata": {
    "execution": {
     "iopub.execute_input": "2023-11-06T07:23:01.860943Z",
     "iopub.status.busy": "2023-11-06T07:23:01.860415Z",
     "iopub.status.idle": "2023-11-06T07:23:01.869423Z",
     "shell.execute_reply": "2023-11-06T07:23:01.868533Z"
    },
    "papermill": {
     "duration": 0.025226,
     "end_time": "2023-11-06T07:23:01.872337",
     "exception": false,
     "start_time": "2023-11-06T07:23:01.847111",
     "status": "completed"
    },
    "tags": []
   },
   "outputs": [
    {
     "name": "stdout",
     "output_type": "stream",
     "text": [
      "     Age  Annual Income (k$)\n",
      "126   43                  71\n",
      "104   49                  62\n",
      "99    20                  61\n",
      "92    48                  60\n",
      "111   19                  63\n",
      "..   ...                 ...\n",
      "54    50                  43\n",
      "25    29                  28\n",
      "21    25                  24\n",
      "48    29                  40\n",
      "9     30                  19\n",
      "\n",
      "[100 rows x 2 columns]\n"
     ]
    }
   ],
   "source": [
    "\n",
    "print(X_test)\n"
   ]
  },
  {
   "cell_type": "code",
   "execution_count": 19,
   "id": "bc5055c8",
   "metadata": {
    "execution": {
     "iopub.execute_input": "2023-11-06T07:23:01.897380Z",
     "iopub.status.busy": "2023-11-06T07:23:01.896923Z",
     "iopub.status.idle": "2023-11-06T07:23:01.906432Z",
     "shell.execute_reply": "2023-11-06T07:23:01.905042Z"
    },
    "papermill": {
     "duration": 0.026212,
     "end_time": "2023-11-06T07:23:01.909643",
     "exception": false,
     "start_time": "2023-11-06T07:23:01.883431",
     "status": "completed"
    },
    "tags": []
   },
   "outputs": [
    {
     "name": "stdout",
     "output_type": "stream",
     "text": [
      "[53.38367155]\n"
     ]
    }
   ],
   "source": [
    "y_pred2 = model.predict(pd.DataFrame({'Age': [20], 'Annual Income (k$)': [20]}))\n",
    "print(y_pred2)"
   ]
  },
  {
   "cell_type": "code",
   "execution_count": 20,
   "id": "15237053",
   "metadata": {
    "execution": {
     "iopub.execute_input": "2023-11-06T07:23:01.934324Z",
     "iopub.status.busy": "2023-11-06T07:23:01.933775Z",
     "iopub.status.idle": "2023-11-06T07:23:01.941686Z",
     "shell.execute_reply": "2023-11-06T07:23:01.940603Z"
    },
    "papermill": {
     "duration": 0.02378,
     "end_time": "2023-11-06T07:23:01.944573",
     "exception": false,
     "start_time": "2023-11-06T07:23:01.920793",
     "status": "completed"
    },
    "tags": []
   },
   "outputs": [
    {
     "name": "stdout",
     "output_type": "stream",
     "text": [
      "Mean Squared Error (MSE):  576.9565001017592\n"
     ]
    }
   ],
   "source": [
    "mse = mean_squared_error(y_test,y_pred)\n",
    "print(\"Mean Squared Error (MSE): \",mse)"
   ]
  }
 ],
 "metadata": {
  "kernelspec": {
   "display_name": "Python 3",
   "language": "python",
   "name": "python3"
  },
  "language_info": {
   "codemirror_mode": {
    "name": "ipython",
    "version": 3
   },
   "file_extension": ".py",
   "mimetype": "text/x-python",
   "name": "python",
   "nbconvert_exporter": "python",
   "pygments_lexer": "ipython3",
   "version": "3.10.12"
  },
  "papermill": {
   "default_parameters": {},
   "duration": 9.742091,
   "end_time": "2023-11-06T07:23:02.678882",
   "environment_variables": {},
   "exception": null,
   "input_path": "__notebook__.ipynb",
   "output_path": "__notebook__.ipynb",
   "parameters": {},
   "start_time": "2023-11-06T07:22:52.936791",
   "version": "2.4.0"
  }
 },
 "nbformat": 4,
 "nbformat_minor": 5
}
